{
 "cells": [
  {
   "cell_type": "code",
   "execution_count": 47,
   "metadata": {},
   "outputs": [],
   "source": [
    "import numpy as np\n",
    "import pandas as pd\n",
    "import matplotlib.pyplot as plt\n"
   ]
  },
  {
   "cell_type": "code",
   "execution_count": 65,
   "metadata": {},
   "outputs": [],
   "source": [
    "# Change static power in P_serial_static and P_parallel_static\n",
    "\n",
    "v_max, v_min, v_thresh = 1.3, 1.0, 0.9\n",
    "P_serial_static = 5\n",
    "P_serial_dynamic = 50\n",
    "P_parallel_static_before = 5\n",
    "P_parallel_dynamic_before = 50\n",
    "\n",
    "T_before = 2\n",
    "T_deadline = 0.3\n",
    "serial = 0.05\n",
    "parallel = 0.95\n"
   ]
  },
  {
   "cell_type": "code",
   "execution_count": 66,
   "metadata": {},
   "outputs": [],
   "source": [
    "voltage_list = np.arange(v_min, v_max, 0.01)\n",
    "energy_per_parallel_list = []\n",
    "delay_parallel_list = []\n",
    "energy_list = []\n",
    "delay_list = []\n",
    "num_cores_list = []\n",
    "energy_delay_list = []\n",
    "power_list = []"
   ]
  },
  {
   "cell_type": "code",
   "execution_count": 67,
   "metadata": {},
   "outputs": [
    {
     "name": "stdout",
     "output_type": "stream",
     "text": [
      "E_serial: 5.5 \n",
      "P_serial: 55 \n",
      "T_serial: 0.1\n"
     ]
    }
   ],
   "source": [
    "## serial energy \n",
    "P_serial = P_serial_static + P_serial_dynamic\n",
    "T_serial = serial*T_before\n",
    "E_static_serial = P_serial_static*T_serial\n",
    "E_dynamic_serial = P_serial_dynamic*T_serial\n",
    "E_serial = E_static_serial + E_dynamic_serial\n",
    "print(f\"E_serial: {E_serial} \\nP_serial: {P_serial} \\nT_serial: {T_serial}\")"
   ]
  },
  {
   "cell_type": "code",
   "execution_count": 68,
   "metadata": {},
   "outputs": [],
   "source": [
    "## parallel\n",
    "T_parallel_deadline = T_deadline - T_serial\n",
    "T_parallel_total_before = parallel*T_before\n",
    "E_parallel_dynamic_before = P_parallel_dynamic_before *  T_parallel_total_before\n",
    "E_parallel_static_before = P_parallel_static_before * T_parallel_total_before"
   ]
  },
  {
   "cell_type": "code",
   "execution_count": 69,
   "metadata": {},
   "outputs": [],
   "source": [
    "for v in voltage_list:\n",
    "    f2_f1 = (((v - v_thresh)/(v_max - v_thresh))**2)*(v_max/v)\n",
    "    v2_v1 = (v/v_max)\n",
    "    t2_t1 = 1/f2_f1\n",
    "\n",
    "    T_parallel_total = t2_t1 *  T_parallel_total_before\n",
    "       \n",
    "    P_parallel_static = (v2_v1)* P_parallel_static_before\n",
    "    P_parallel_dynamic = ((v2_v1)**2)*(f2_f1)*P_parallel_dynamic_before\n",
    "\n",
    "    E_parallel_static = P_parallel_static * T_parallel_total\n",
    "    E_parallel_dynamic = P_parallel_dynamic * T_parallel_total\n",
    "\n",
    "    N = T_parallel_total/T_parallel_deadline\n",
    "\n",
    "    E_parallel = E_parallel_static + E_parallel_dynamic\n",
    "    P_parallel = P_parallel_static + P_parallel_dynamic\n",
    "    \n",
    "    P_total = P_serial + P_parallel\n",
    "    E_total = E_serial +  E_parallel\n",
    "    T_total = T_serial + T_parallel_total\n",
    "\n",
    "    EDP = E_parallel*T_parallel_total/N\n",
    "\n",
    "    power_list.append(P_total)\n",
    "    num_cores_list.append(N)\n",
    "    energy_list.append(E_total)\n",
    "    delay_list.append(T_total)\n",
    "\n",
    "    energy_delay_list.append(EDP)\n",
    "\n",
    "    energy_per_parallel_list.append(E_parallel/N)\n",
    "    delay_parallel_list.append(T_parallel_total)\n",
    "    \n"
   ]
  },
  {
   "cell_type": "code",
   "execution_count": 70,
   "metadata": {},
   "outputs": [],
   "source": [
    "power_list = np.around(power_list, 2)\n",
    "delay_list = np.around(delay_list,2)\n",
    "energy_list = np.around(energy_list,2)\n",
    "num_cores_list = np.ceil(num_cores_list)\n",
    "\n",
    "energy_parallel_list = np.around(energy_per_parallel_list,2)\n",
    "delay_parallel_list = np.around(delay_parallel_list,2)\n",
    "\n",
    "energy_delay_list = np.around(energy_delay_list, 2)"
   ]
  },
  {
   "cell_type": "code",
   "execution_count": 82,
   "metadata": {},
   "outputs": [],
   "source": [
    "data = pd.DataFrame(list(zip(voltage_list, power_list, energy_list, delay_list, \n",
    "    num_cores_list, energy_per_parallel_list, delay_parallel_list, energy_delay_list)), \n",
    "    columns=[\"Voltage\", \"Power\", \"Energy\", \"Delay\", \"Number of Parallel Cores\", \n",
    "    \"Energy per Parallel core\", \"Delay - all Parallel cores\", \"EDP - Parallel cores\"])"
   ]
  },
  {
   "cell_type": "code",
   "execution_count": 83,
   "metadata": {},
   "outputs": [
    {
     "data": {
      "text/html": [
       "<div>\n",
       "<style scoped>\n",
       "    .dataframe tbody tr th:only-of-type {\n",
       "        vertical-align: middle;\n",
       "    }\n",
       "\n",
       "    .dataframe tbody tr th {\n",
       "        vertical-align: top;\n",
       "    }\n",
       "\n",
       "    .dataframe thead th {\n",
       "        text-align: right;\n",
       "    }\n",
       "</style>\n",
       "<table border=\"1\" class=\"dataframe\">\n",
       "  <thead>\n",
       "    <tr style=\"text-align: right;\">\n",
       "      <th></th>\n",
       "      <th>Voltage</th>\n",
       "      <th>Power</th>\n",
       "      <th>Energy</th>\n",
       "      <th>Delay</th>\n",
       "      <th>Number of Parallel Cores</th>\n",
       "      <th>Energy per Parallel core</th>\n",
       "      <th>Delay - all Parallel cores</th>\n",
       "      <th>EDP - Parallel cores</th>\n",
       "    </tr>\n",
       "  </thead>\n",
       "  <tbody>\n",
       "    <tr>\n",
       "      <th>0</th>\n",
       "      <td>1.00</td>\n",
       "      <td>61.25</td>\n",
       "      <td>151.65</td>\n",
       "      <td>23.48</td>\n",
       "      <td>117.0</td>\n",
       "      <td>1.250000</td>\n",
       "      <td>23.38</td>\n",
       "      <td>29.23</td>\n",
       "    </tr>\n",
       "    <tr>\n",
       "      <th>1</th>\n",
       "      <td>1.01</td>\n",
       "      <td>61.82</td>\n",
       "      <td>138.67</td>\n",
       "      <td>19.62</td>\n",
       "      <td>98.0</td>\n",
       "      <td>1.364471</td>\n",
       "      <td>19.52</td>\n",
       "      <td>26.63</td>\n",
       "    </tr>\n",
       "    <tr>\n",
       "      <th>2</th>\n",
       "      <td>1.02</td>\n",
       "      <td>62.45</td>\n",
       "      <td>128.97</td>\n",
       "      <td>16.66</td>\n",
       "      <td>83.0</td>\n",
       "      <td>1.490769</td>\n",
       "      <td>16.56</td>\n",
       "      <td>24.69</td>\n",
       "    </tr>\n",
       "    <tr>\n",
       "      <th>3</th>\n",
       "      <td>1.03</td>\n",
       "      <td>63.15</td>\n",
       "      <td>121.60</td>\n",
       "      <td>14.35</td>\n",
       "      <td>72.0</td>\n",
       "      <td>1.629183</td>\n",
       "      <td>14.25</td>\n",
       "      <td>23.22</td>\n",
       "    </tr>\n",
       "    <tr>\n",
       "      <th>4</th>\n",
       "      <td>1.04</td>\n",
       "      <td>63.90</td>\n",
       "      <td>115.93</td>\n",
       "      <td>12.51</td>\n",
       "      <td>63.0</td>\n",
       "      <td>1.780000</td>\n",
       "      <td>12.41</td>\n",
       "      <td>22.09</td>\n",
       "    </tr>\n",
       "    <tr>\n",
       "      <th>5</th>\n",
       "      <td>1.05</td>\n",
       "      <td>64.72</td>\n",
       "      <td>111.55</td>\n",
       "      <td>11.01</td>\n",
       "      <td>55.0</td>\n",
       "      <td>1.943510</td>\n",
       "      <td>10.91</td>\n",
       "      <td>21.21</td>\n",
       "    </tr>\n",
       "    <tr>\n",
       "      <th>6</th>\n",
       "      <td>1.06</td>\n",
       "      <td>65.60</td>\n",
       "      <td>108.14</td>\n",
       "      <td>9.78</td>\n",
       "      <td>49.0</td>\n",
       "      <td>2.120000</td>\n",
       "      <td>9.68</td>\n",
       "      <td>20.53</td>\n",
       "    </tr>\n",
       "    <tr>\n",
       "      <th>7</th>\n",
       "      <td>1.07</td>\n",
       "      <td>66.55</td>\n",
       "      <td>105.49</td>\n",
       "      <td>8.76</td>\n",
       "      <td>44.0</td>\n",
       "      <td>2.309760</td>\n",
       "      <td>8.66</td>\n",
       "      <td>20.00</td>\n",
       "    </tr>\n",
       "    <tr>\n",
       "      <th>8</th>\n",
       "      <td>1.08</td>\n",
       "      <td>67.57</td>\n",
       "      <td>103.45</td>\n",
       "      <td>7.89</td>\n",
       "      <td>39.0</td>\n",
       "      <td>2.513077</td>\n",
       "      <td>7.79</td>\n",
       "      <td>19.59</td>\n",
       "    </tr>\n",
       "    <tr>\n",
       "      <th>9</th>\n",
       "      <td>1.09</td>\n",
       "      <td>68.65</td>\n",
       "      <td>101.89</td>\n",
       "      <td>7.16</td>\n",
       "      <td>36.0</td>\n",
       "      <td>2.730240</td>\n",
       "      <td>7.06</td>\n",
       "      <td>19.28</td>\n",
       "    </tr>\n",
       "    <tr>\n",
       "      <th>10</th>\n",
       "      <td>1.10</td>\n",
       "      <td>69.81</td>\n",
       "      <td>100.72</td>\n",
       "      <td>6.53</td>\n",
       "      <td>33.0</td>\n",
       "      <td>2.961538</td>\n",
       "      <td>6.43</td>\n",
       "      <td>19.04</td>\n",
       "    </tr>\n",
       "    <tr>\n",
       "      <th>11</th>\n",
       "      <td>1.11</td>\n",
       "      <td>71.04</td>\n",
       "      <td>99.89</td>\n",
       "      <td>5.99</td>\n",
       "      <td>30.0</td>\n",
       "      <td>3.207260</td>\n",
       "      <td>5.89</td>\n",
       "      <td>18.88</td>\n",
       "    </tr>\n",
       "    <tr>\n",
       "      <th>12</th>\n",
       "      <td>1.12</td>\n",
       "      <td>72.34</td>\n",
       "      <td>99.32</td>\n",
       "      <td>5.51</td>\n",
       "      <td>28.0</td>\n",
       "      <td>3.467692</td>\n",
       "      <td>5.41</td>\n",
       "      <td>18.76</td>\n",
       "    </tr>\n",
       "    <tr>\n",
       "      <th>13</th>\n",
       "      <td>1.13</td>\n",
       "      <td>73.72</td>\n",
       "      <td>98.99</td>\n",
       "      <td>5.10</td>\n",
       "      <td>25.0</td>\n",
       "      <td>3.743125</td>\n",
       "      <td>5.00</td>\n",
       "      <td>18.70</td>\n",
       "    </tr>\n",
       "    <tr>\n",
       "      <th>14</th>\n",
       "      <td>1.14</td>\n",
       "      <td>75.17</td>\n",
       "      <td>98.85</td>\n",
       "      <td>4.73</td>\n",
       "      <td>24.0</td>\n",
       "      <td>4.033846</td>\n",
       "      <td>4.63</td>\n",
       "      <td>18.67</td>\n",
       "    </tr>\n",
       "    <tr>\n",
       "      <th>15</th>\n",
       "      <td>1.15</td>\n",
       "      <td>76.70</td>\n",
       "      <td>98.87</td>\n",
       "      <td>4.40</td>\n",
       "      <td>22.0</td>\n",
       "      <td>4.340144</td>\n",
       "      <td>4.30</td>\n",
       "      <td>18.67</td>\n",
       "    </tr>\n",
       "    <tr>\n",
       "      <th>16</th>\n",
       "      <td>1.16</td>\n",
       "      <td>78.31</td>\n",
       "      <td>99.04</td>\n",
       "      <td>4.11</td>\n",
       "      <td>21.0</td>\n",
       "      <td>4.662308</td>\n",
       "      <td>4.01</td>\n",
       "      <td>18.71</td>\n",
       "    </tr>\n",
       "    <tr>\n",
       "      <th>17</th>\n",
       "      <td>1.17</td>\n",
       "      <td>80.00</td>\n",
       "      <td>99.34</td>\n",
       "      <td>3.85</td>\n",
       "      <td>19.0</td>\n",
       "      <td>5.000625</td>\n",
       "      <td>3.75</td>\n",
       "      <td>18.77</td>\n",
       "    </tr>\n",
       "    <tr>\n",
       "      <th>18</th>\n",
       "      <td>1.18</td>\n",
       "      <td>81.78</td>\n",
       "      <td>99.74</td>\n",
       "      <td>3.62</td>\n",
       "      <td>18.0</td>\n",
       "      <td>5.355385</td>\n",
       "      <td>3.52</td>\n",
       "      <td>18.85</td>\n",
       "    </tr>\n",
       "    <tr>\n",
       "      <th>19</th>\n",
       "      <td>1.19</td>\n",
       "      <td>83.63</td>\n",
       "      <td>100.25</td>\n",
       "      <td>3.41</td>\n",
       "      <td>17.0</td>\n",
       "      <td>5.726875</td>\n",
       "      <td>3.31</td>\n",
       "      <td>18.95</td>\n",
       "    </tr>\n",
       "    <tr>\n",
       "      <th>20</th>\n",
       "      <td>1.20</td>\n",
       "      <td>85.58</td>\n",
       "      <td>100.84</td>\n",
       "      <td>3.22</td>\n",
       "      <td>16.0</td>\n",
       "      <td>6.115385</td>\n",
       "      <td>3.12</td>\n",
       "      <td>19.07</td>\n",
       "    </tr>\n",
       "    <tr>\n",
       "      <th>21</th>\n",
       "      <td>1.21</td>\n",
       "      <td>87.61</td>\n",
       "      <td>101.50</td>\n",
       "      <td>3.04</td>\n",
       "      <td>15.0</td>\n",
       "      <td>6.521202</td>\n",
       "      <td>2.94</td>\n",
       "      <td>19.20</td>\n",
       "    </tr>\n",
       "    <tr>\n",
       "      <th>22</th>\n",
       "      <td>1.22</td>\n",
       "      <td>89.72</td>\n",
       "      <td>102.24</td>\n",
       "      <td>2.89</td>\n",
       "      <td>14.0</td>\n",
       "      <td>6.944615</td>\n",
       "      <td>2.79</td>\n",
       "      <td>19.35</td>\n",
       "    </tr>\n",
       "    <tr>\n",
       "      <th>23</th>\n",
       "      <td>1.23</td>\n",
       "      <td>91.93</td>\n",
       "      <td>103.04</td>\n",
       "      <td>2.74</td>\n",
       "      <td>14.0</td>\n",
       "      <td>7.385913</td>\n",
       "      <td>2.64</td>\n",
       "      <td>19.51</td>\n",
       "    </tr>\n",
       "    <tr>\n",
       "      <th>24</th>\n",
       "      <td>1.24</td>\n",
       "      <td>94.23</td>\n",
       "      <td>103.90</td>\n",
       "      <td>2.61</td>\n",
       "      <td>13.0</td>\n",
       "      <td>7.845385</td>\n",
       "      <td>2.51</td>\n",
       "      <td>19.68</td>\n",
       "    </tr>\n",
       "    <tr>\n",
       "      <th>25</th>\n",
       "      <td>1.25</td>\n",
       "      <td>96.62</td>\n",
       "      <td>104.80</td>\n",
       "      <td>2.49</td>\n",
       "      <td>12.0</td>\n",
       "      <td>8.323317</td>\n",
       "      <td>2.39</td>\n",
       "      <td>19.86</td>\n",
       "    </tr>\n",
       "    <tr>\n",
       "      <th>26</th>\n",
       "      <td>1.26</td>\n",
       "      <td>99.10</td>\n",
       "      <td>105.76</td>\n",
       "      <td>2.37</td>\n",
       "      <td>12.0</td>\n",
       "      <td>8.820000</td>\n",
       "      <td>2.27</td>\n",
       "      <td>20.05</td>\n",
       "    </tr>\n",
       "    <tr>\n",
       "      <th>27</th>\n",
       "      <td>1.27</td>\n",
       "      <td>101.68</td>\n",
       "      <td>106.76</td>\n",
       "      <td>2.27</td>\n",
       "      <td>11.0</td>\n",
       "      <td>9.335721</td>\n",
       "      <td>2.17</td>\n",
       "      <td>20.25</td>\n",
       "    </tr>\n",
       "    <tr>\n",
       "      <th>28</th>\n",
       "      <td>1.28</td>\n",
       "      <td>104.35</td>\n",
       "      <td>107.80</td>\n",
       "      <td>2.17</td>\n",
       "      <td>11.0</td>\n",
       "      <td>9.870769</td>\n",
       "      <td>2.07</td>\n",
       "      <td>20.46</td>\n",
       "    </tr>\n",
       "    <tr>\n",
       "      <th>29</th>\n",
       "      <td>1.29</td>\n",
       "      <td>107.13</td>\n",
       "      <td>108.88</td>\n",
       "      <td>2.08</td>\n",
       "      <td>10.0</td>\n",
       "      <td>10.425433</td>\n",
       "      <td>1.98</td>\n",
       "      <td>20.68</td>\n",
       "    </tr>\n",
       "    <tr>\n",
       "      <th>30</th>\n",
       "      <td>1.30</td>\n",
       "      <td>110.00</td>\n",
       "      <td>110.00</td>\n",
       "      <td>2.00</td>\n",
       "      <td>10.0</td>\n",
       "      <td>11.000000</td>\n",
       "      <td>1.90</td>\n",
       "      <td>20.90</td>\n",
       "    </tr>\n",
       "  </tbody>\n",
       "</table>\n",
       "</div>"
      ],
      "text/plain": [
       "    Voltage   Power  Energy  Delay  Number of Parallel Cores  \\\n",
       "0      1.00   61.25  151.65  23.48                     117.0   \n",
       "1      1.01   61.82  138.67  19.62                      98.0   \n",
       "2      1.02   62.45  128.97  16.66                      83.0   \n",
       "3      1.03   63.15  121.60  14.35                      72.0   \n",
       "4      1.04   63.90  115.93  12.51                      63.0   \n",
       "5      1.05   64.72  111.55  11.01                      55.0   \n",
       "6      1.06   65.60  108.14   9.78                      49.0   \n",
       "7      1.07   66.55  105.49   8.76                      44.0   \n",
       "8      1.08   67.57  103.45   7.89                      39.0   \n",
       "9      1.09   68.65  101.89   7.16                      36.0   \n",
       "10     1.10   69.81  100.72   6.53                      33.0   \n",
       "11     1.11   71.04   99.89   5.99                      30.0   \n",
       "12     1.12   72.34   99.32   5.51                      28.0   \n",
       "13     1.13   73.72   98.99   5.10                      25.0   \n",
       "14     1.14   75.17   98.85   4.73                      24.0   \n",
       "15     1.15   76.70   98.87   4.40                      22.0   \n",
       "16     1.16   78.31   99.04   4.11                      21.0   \n",
       "17     1.17   80.00   99.34   3.85                      19.0   \n",
       "18     1.18   81.78   99.74   3.62                      18.0   \n",
       "19     1.19   83.63  100.25   3.41                      17.0   \n",
       "20     1.20   85.58  100.84   3.22                      16.0   \n",
       "21     1.21   87.61  101.50   3.04                      15.0   \n",
       "22     1.22   89.72  102.24   2.89                      14.0   \n",
       "23     1.23   91.93  103.04   2.74                      14.0   \n",
       "24     1.24   94.23  103.90   2.61                      13.0   \n",
       "25     1.25   96.62  104.80   2.49                      12.0   \n",
       "26     1.26   99.10  105.76   2.37                      12.0   \n",
       "27     1.27  101.68  106.76   2.27                      11.0   \n",
       "28     1.28  104.35  107.80   2.17                      11.0   \n",
       "29     1.29  107.13  108.88   2.08                      10.0   \n",
       "30     1.30  110.00  110.00   2.00                      10.0   \n",
       "\n",
       "    Energy per Parallel core  Delay - all Parallel cores  EDP - Parallel cores  \n",
       "0                   1.250000                       23.38                 29.23  \n",
       "1                   1.364471                       19.52                 26.63  \n",
       "2                   1.490769                       16.56                 24.69  \n",
       "3                   1.629183                       14.25                 23.22  \n",
       "4                   1.780000                       12.41                 22.09  \n",
       "5                   1.943510                       10.91                 21.21  \n",
       "6                   2.120000                        9.68                 20.53  \n",
       "7                   2.309760                        8.66                 20.00  \n",
       "8                   2.513077                        7.79                 19.59  \n",
       "9                   2.730240                        7.06                 19.28  \n",
       "10                  2.961538                        6.43                 19.04  \n",
       "11                  3.207260                        5.89                 18.88  \n",
       "12                  3.467692                        5.41                 18.76  \n",
       "13                  3.743125                        5.00                 18.70  \n",
       "14                  4.033846                        4.63                 18.67  \n",
       "15                  4.340144                        4.30                 18.67  \n",
       "16                  4.662308                        4.01                 18.71  \n",
       "17                  5.000625                        3.75                 18.77  \n",
       "18                  5.355385                        3.52                 18.85  \n",
       "19                  5.726875                        3.31                 18.95  \n",
       "20                  6.115385                        3.12                 19.07  \n",
       "21                  6.521202                        2.94                 19.20  \n",
       "22                  6.944615                        2.79                 19.35  \n",
       "23                  7.385913                        2.64                 19.51  \n",
       "24                  7.845385                        2.51                 19.68  \n",
       "25                  8.323317                        2.39                 19.86  \n",
       "26                  8.820000                        2.27                 20.05  \n",
       "27                  9.335721                        2.17                 20.25  \n",
       "28                  9.870769                        2.07                 20.46  \n",
       "29                 10.425433                        1.98                 20.68  \n",
       "30                 11.000000                        1.90                 20.90  "
      ]
     },
     "execution_count": 83,
     "metadata": {},
     "output_type": "execute_result"
    }
   ],
   "source": [
    "data"
   ]
  },
  {
   "cell_type": "code",
   "execution_count": 84,
   "metadata": {},
   "outputs": [
    {
     "name": "stdout",
     "output_type": "stream",
     "text": [
      "Voltage                        1.140000\n",
      "Power                         75.170000\n",
      "Energy                        98.850000\n",
      "Delay                          4.730000\n",
      "Number of Parallel Cores      24.000000\n",
      "Energy per Parallel core       4.033846\n",
      "Delay - all Parallel cores     4.630000\n",
      "EDP - Parallel cores          18.670000\n",
      "Name: 14, dtype: float64\n"
     ]
    }
   ],
   "source": [
    "## Min Energy configuration with static and dynamic energy: \n",
    "energy_minidx = np.argmin(energy_list)\n",
    "print(data.iloc[energy_minidx])"
   ]
  },
  {
   "cell_type": "code",
   "execution_count": 85,
   "metadata": {},
   "outputs": [
    {
     "name": "stdout",
     "output_type": "stream",
     "text": [
      "Voltage                         1.00\n",
      "Power                          61.25\n",
      "Energy                        151.65\n",
      "Delay                          23.48\n",
      "Number of Parallel Cores      117.00\n",
      "Energy per Parallel core        1.25\n",
      "Delay - all Parallel cores     23.38\n",
      "EDP - Parallel cores           29.23\n",
      "Name: 0, dtype: float64\n"
     ]
    }
   ],
   "source": [
    "## Min Energy configuration with only dynamic energy:\n",
    "\n",
    "energy_minidx = np.argmin(energy_per_parallel_list)\n",
    "print(data.iloc[energy_minidx])"
   ]
  },
  {
   "cell_type": "code",
   "execution_count": 86,
   "metadata": {},
   "outputs": [
    {
     "data": {
      "image/png": "[encoded data removed]",
      "text/plain": [
       "<Figure size 432x288 with 1 Axes>"
      ]
     },
     "metadata": {
      "needs_background": "light"
     },
     "output_type": "display_data"
    }
   ],
   "source": [
    "plt.plot(delay_parallel_list, energy_per_parallel_list)\n",
    "plt.title(\"Energy per parallel core vs Delay of parallel cores\\n\")\n",
    "plt.ylabel(\"Energy (J)\")\n",
    "plt.xlabel(\"Delay (s)\")\n",
    "plt.show()"
   ]
  },
  {
   "cell_type": "code",
   "execution_count": 87,
   "metadata": {},
   "outputs": [
    {
     "data": {
      "image/png": "[encoded data removed]",
      "text/plain": [
       "<Figure size 432x288 with 1 Axes>"
      ]
     },
     "metadata": {
      "needs_background": "light"
     },
     "output_type": "display_data"
    }
   ],
   "source": [
    "plt.plot(delay_list, energy_list)\n",
    "plt.title(\"Total Energy vs Total Delay Plot\\n\")\n",
    "plt.ylabel(\"Energy (J)\")\n",
    "plt.xlabel(\"Delay (s)\")\n",
    "plt.show()\n"
   ]
  },
  {
   "cell_type": "code",
   "execution_count": 88,
   "metadata": {},
   "outputs": [
    {
     "data": {
      "image/png": "[encoded data removed]",
      "text/plain": [
       "<Figure size 432x288 with 1 Axes>"
      ]
     },
     "metadata": {
      "needs_background": "light"
     },
     "output_type": "display_data"
    }
   ],
   "source": [
    "plt.plot(voltage_list, power_list)\n",
    "plt.title(\"Power vs Voltage Plot\\n\")\n",
    "plt.xlabel(\"Voltage (V)\")\n",
    "plt.ylabel(\"Power (W)\")\n",
    "plt.show()\n"
   ]
  },
  {
   "cell_type": "code",
   "execution_count": 89,
   "metadata": {},
   "outputs": [
    {
     "data": {
      "image/png": "[encoded data removed]",
      "text/plain": [
       "<Figure size 432x288 with 1 Axes>"
      ]
     },
     "metadata": {
      "needs_background": "light"
     },
     "output_type": "display_data"
    }
   ],
   "source": [
    "plt.plot(num_cores_list, energy_per_parallel_list)\n",
    "plt.title(\"Energy consumed per Parallel Core vs Number of parallel cores\\n\")\n",
    "plt.ylabel(\"Energy (J)\")\n",
    "plt.xlabel(\"Num_cores\")\n",
    "plt.show()"
   ]
  },
  {
   "cell_type": "code",
   "execution_count": 90,
   "metadata": {},
   "outputs": [
    {
     "data": {
      "image/png": "[encoded data removed]",
      "text/plain": [
       "<Figure size 432x288 with 1 Axes>"
      ]
     },
     "metadata": {
      "needs_background": "light"
     },
     "output_type": "display_data"
    }
   ],
   "source": [
    "plt.plot(delay_list, num_cores_list)\n",
    "plt.title(\"Number of parallel cores vs Delay of Parallel Cores\\n\")\n",
    "plt.xlabel(\"Delay (s)\")\n",
    "plt.ylabel(\"Number of parallel cores\")\n",
    "plt.show()"
   ]
  },
  {
   "cell_type": "code",
   "execution_count": 91,
   "metadata": {},
   "outputs": [
    {
     "data": {
      "image/png": "[encoded data removed]",
      "text/plain": [
       "<Figure size 432x288 with 1 Axes>"
      ]
     },
     "metadata": {
      "needs_background": "light"
     },
     "output_type": "display_data"
    }
   ],
   "source": [
    "\n",
    "plt.plot(voltage_list, energy_delay_list, color='blue', label = \"EDP\")\n",
    "plt.plot(voltage_list, energy_per_parallel_list, color='green', label = \"Energy\")\n",
    "plt.plot(voltage_list, delay_parallel_list, color='red', label =\"Delay\")\n",
    "plt.xlabel(\"Voltage\")\n",
    "plt.ylabel(\"EDP\")\n",
    "plt.legend()\n",
    "plt.show()"
   ]
  },
  {
   "cell_type": "code",
   "execution_count": 92,
   "metadata": {},
   "outputs": [
    {
     "data": {
      "image/png": "[encoded data removed]",
      "text/plain": [
       "<Figure size 432x288 with 1 Axes>"
      ]
     },
     "metadata": {
      "needs_background": "light"
     },
     "output_type": "display_data"
    }
   ],
   "source": [
    "p_norm = np.interp(power_list, (power_list.min(), power_list.max()), (0, +1))\n",
    "d_norm = np.interp(delay_list, (delay_list.min(), delay_list.max()), (0, +1))\n",
    "\n",
    "plt.plot(voltage_list, p_norm, color='green', label = \"Power\")\n",
    "plt.plot(voltage_list, d_norm, color='red', label =\"Delay\")\n",
    "plt.xlabel(\"Voltage (V)\")\n",
    "plt.ylabel(\"POwer (W), Delay (s)\")\n",
    "plt.legend()\n",
    "plt.show()"
   ]
  },
  {
   "cell_type": "code",
   "execution_count": null,
   "metadata": {},
   "outputs": [],
   "source": []
  },
  {
   "cell_type": "code",
   "execution_count": null,
   "metadata": {},
   "outputs": [],
   "source": []
  },
  {
   "cell_type": "code",
   "execution_count": null,
   "metadata": {},
   "outputs": [],
   "source": []
  }
 ],
 "metadata": {
  "interpreter": {
   "hash": "916dbcbb3f70747c44a77c7bcd40155683ae19c65e1c03b4aa3499c5328201f1"
  },
  "kernelspec": {
   "display_name": "Python 3.8.10 64-bit",
   "language": "python",
   "name": "python3"
  },
  "language_info": {
   "codemirror_mode": {
    "name": "ipython",
    "version": 3
   },
   "file_extension": ".py",
   "mimetype": "text/x-python",
   "name": "python",
   "nbconvert_exporter": "python",
   "pygments_lexer": "ipython3",
   "version": "3.8.10"
  },
  "orig_nbformat": 4
 },
 "nbformat": 4,
 "nbformat_minor": 2
}
