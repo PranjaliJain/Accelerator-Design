{
 "cells": [
  {
   "cell_type": "code",
   "execution_count": 2,
   "metadata": {},
   "outputs": [],
   "source": [
    "import numpy as np\n",
    "import pandas as pd\n",
    "import matplotlib.pyplot as plt\n"
   ]
  },
  {
   "cell_type": "code",
   "execution_count": 3,
   "metadata": {},
   "outputs": [],
   "source": [
    "# Change static power in P_serial_static and P_parallel_static\n",
    "\n",
    "v_max, v_min, v_thresh = 1.3, 1.0, 0.9\n",
    "P_serial_static = 5\n",
    "P_serial_dynamic = 50\n",
    "P_parallel_static_before = 5\n",
    "P_parallel_dynamic_before = 50\n",
    "\n",
    "T_before = 2\n",
    "T_deadline = 0.3\n",
    "serial = 0.05\n",
    "parallel = 0.95\n",
    "factor = 10"
   ]
  },
  {
   "cell_type": "code",
   "execution_count": 4,
   "metadata": {},
   "outputs": [],
   "source": [
    "voltage_list = np.arange(v_min, v_max, 0.01)\n",
    "energy_per_parallel_list = []\n",
    "delay_parallel_list = []\n",
    "energy_list = []\n",
    "delay_list = []\n",
    "num_cores_list = []\n",
    "energy_delay_list = []\n",
    "power_list = []"
   ]
  },
  {
   "cell_type": "code",
   "execution_count": 5,
   "metadata": {},
   "outputs": [
    {
     "name": "stdout",
     "output_type": "stream",
     "text": [
      "E_serial: 5.5 \n",
      "P_serial: 55 \n",
      "T_serial: 0.1\n"
     ]
    }
   ],
   "source": [
    "## serial energy \n",
    "P_serial = P_serial_static + P_serial_dynamic\n",
    "T_serial = serial*T_before\n",
    "E_static_serial = P_serial_static*T_serial\n",
    "E_dynamic_serial = P_serial_dynamic*T_serial\n",
    "E_serial = E_static_serial + E_dynamic_serial\n",
    "print(f\"E_serial: {E_serial} \\nP_serial: {P_serial} \\nT_serial: {T_serial}\")"
   ]
  },
  {
   "cell_type": "code",
   "execution_count": 6,
   "metadata": {},
   "outputs": [],
   "source": [
    "## parallel\n",
    "T_parallel_deadline = T_deadline - T_serial\n",
    "T_parallel_total_before = parallel*T_before\n",
    "E_parallel_dynamic_before = P_parallel_dynamic_before *  T_parallel_total_before\n",
    "E_parallel_static_before = P_parallel_static_before * T_parallel_total_before"
   ]
  },
  {
   "cell_type": "code",
   "execution_count": 7,
   "metadata": {},
   "outputs": [],
   "source": [
    "for v in voltage_list:\n",
    "    f2_f1 = (((v - v_thresh)/(v_max - v_thresh))**2)*(v_max/v)\n",
    "    v2_v1 = (v/v_max)\n",
    "    t2_t1 = 1/f2_f1\n",
    "\n",
    "    T_parallel_total = t2_t1 *  T_parallel_total_before\n",
    "       \n",
    "    P_parallel_static = ((v2_v1)* P_parallel_static_before)/factor\n",
    "    P_parallel_dynamic = ((v2_v1)**2)*(f2_f1)*P_parallel_dynamic_before\n",
    "\n",
    "    E_parallel_static = P_parallel_static * T_parallel_total\n",
    "    # E_parallel_dynamic = P_parallel_dynamic * T_parallel_total\n",
    "    E_parallel_dynamic = (((v2_v1)**2) * E_parallel_dynamic_before)/factor\n",
    "\n",
    "    N = T_parallel_total/T_parallel_deadline\n",
    "\n",
    "    E_parallel = E_parallel_static + E_parallel_dynamic\n",
    "    P_parallel = P_parallel_static + P_parallel_dynamic\n",
    "    \n",
    "    P_total = P_serial + P_parallel\n",
    "    E_total = E_serial +  E_parallel\n",
    "    T_total = T_serial + T_parallel_total\n",
    "\n",
    "    EDP = E_parallel*T_parallel_total/N\n",
    "\n",
    "    power_list.append(P_total)\n",
    "    num_cores_list.append(N)\n",
    "    energy_list.append(E_total)\n",
    "    delay_list.append(T_total)\n",
    "\n",
    "    energy_delay_list.append(EDP)\n",
    "\n",
    "    energy_per_parallel_list.append(E_parallel/N)\n",
    "    delay_parallel_list.append(T_parallel_total)\n",
    "    \n"
   ]
  },
  {
   "cell_type": "code",
   "execution_count": 8,
   "metadata": {},
   "outputs": [],
   "source": [
    "power_list = np.around(power_list, 2)\n",
    "delay_list = np.around(delay_list,2)\n",
    "energy_list = np.around(energy_list,2)\n",
    "num_cores_list = np.ceil(num_cores_list)\n",
    "\n",
    "energy_parallel_list = np.around(energy_per_parallel_list,2)\n",
    "delay_parallel_list = np.around(delay_parallel_list,2)\n",
    "\n",
    "energy_delay_list = np.around(energy_delay_list, 2)"
   ]
  },
  {
   "cell_type": "code",
   "execution_count": 9,
   "metadata": {},
   "outputs": [],
   "source": [
    "data = pd.DataFrame(list(zip(voltage_list, power_list, energy_list, delay_list, \n",
    "    num_cores_list, energy_per_parallel_list, delay_parallel_list, energy_delay_list)), \n",
    "    columns=[\"Voltage\", \"Power\", \"Energy\", \"Delay\", \"Number of Parallel Cores\", \n",
    "    \"Energy per Parallel core\", \"Delay - all Parallel cores\", \"EDP - Parallel cores\"])"
   ]
  },
  {
   "cell_type": "code",
   "execution_count": 10,
   "metadata": {},
   "outputs": [
    {
     "data": {
      "text/html": [
       "<div>\n",
       "<style scoped>\n",
       "    .dataframe tbody tr th:only-of-type {\n",
       "        vertical-align: middle;\n",
       "    }\n",
       "\n",
       "    .dataframe tbody tr th {\n",
       "        vertical-align: top;\n",
       "    }\n",
       "\n",
       "    .dataframe thead th {\n",
       "        text-align: right;\n",
       "    }\n",
       "</style>\n",
       "<table border=\"1\" class=\"dataframe\">\n",
       "  <thead>\n",
       "    <tr style=\"text-align: right;\">\n",
       "      <th></th>\n",
       "      <th>Voltage</th>\n",
       "      <th>Power</th>\n",
       "      <th>Energy</th>\n",
       "      <th>Delay</th>\n",
       "      <th>Number of Parallel Cores</th>\n",
       "      <th>Energy per Parallel core</th>\n",
       "      <th>Delay - all Parallel cores</th>\n",
       "      <th>EDP - Parallel cores</th>\n",
       "    </tr>\n",
       "  </thead>\n",
       "  <tbody>\n",
       "    <tr>\n",
       "      <th>0</th>\n",
       "      <td>1.00</td>\n",
       "      <td>57.79</td>\n",
       "      <td>20.12</td>\n",
       "      <td>23.48</td>\n",
       "      <td>117.0</td>\n",
       "      <td>0.125000</td>\n",
       "      <td>23.38</td>\n",
       "      <td>2.92</td>\n",
       "    </tr>\n",
       "    <tr>\n",
       "      <th>1</th>\n",
       "      <td>1.01</td>\n",
       "      <td>58.33</td>\n",
       "      <td>18.82</td>\n",
       "      <td>19.62</td>\n",
       "      <td>98.0</td>\n",
       "      <td>0.136447</td>\n",
       "      <td>19.52</td>\n",
       "      <td>2.66</td>\n",
       "    </tr>\n",
       "    <tr>\n",
       "      <th>2</th>\n",
       "      <td>1.02</td>\n",
       "      <td>58.92</td>\n",
       "      <td>17.85</td>\n",
       "      <td>16.66</td>\n",
       "      <td>83.0</td>\n",
       "      <td>0.149077</td>\n",
       "      <td>16.56</td>\n",
       "      <td>2.47</td>\n",
       "    </tr>\n",
       "    <tr>\n",
       "      <th>3</th>\n",
       "      <td>1.03</td>\n",
       "      <td>59.58</td>\n",
       "      <td>17.11</td>\n",
       "      <td>14.35</td>\n",
       "      <td>72.0</td>\n",
       "      <td>0.162918</td>\n",
       "      <td>14.25</td>\n",
       "      <td>2.32</td>\n",
       "    </tr>\n",
       "    <tr>\n",
       "      <th>4</th>\n",
       "      <td>1.04</td>\n",
       "      <td>60.30</td>\n",
       "      <td>16.54</td>\n",
       "      <td>12.51</td>\n",
       "      <td>63.0</td>\n",
       "      <td>0.178000</td>\n",
       "      <td>12.41</td>\n",
       "      <td>2.21</td>\n",
       "    </tr>\n",
       "    <tr>\n",
       "      <th>5</th>\n",
       "      <td>1.05</td>\n",
       "      <td>61.08</td>\n",
       "      <td>16.10</td>\n",
       "      <td>11.01</td>\n",
       "      <td>55.0</td>\n",
       "      <td>0.194351</td>\n",
       "      <td>10.91</td>\n",
       "      <td>2.12</td>\n",
       "    </tr>\n",
       "    <tr>\n",
       "      <th>6</th>\n",
       "      <td>1.06</td>\n",
       "      <td>61.93</td>\n",
       "      <td>15.76</td>\n",
       "      <td>9.78</td>\n",
       "      <td>49.0</td>\n",
       "      <td>0.212000</td>\n",
       "      <td>9.68</td>\n",
       "      <td>2.05</td>\n",
       "    </tr>\n",
       "    <tr>\n",
       "      <th>7</th>\n",
       "      <td>1.07</td>\n",
       "      <td>62.84</td>\n",
       "      <td>15.50</td>\n",
       "      <td>8.76</td>\n",
       "      <td>44.0</td>\n",
       "      <td>0.230976</td>\n",
       "      <td>8.66</td>\n",
       "      <td>2.00</td>\n",
       "    </tr>\n",
       "    <tr>\n",
       "      <th>8</th>\n",
       "      <td>1.08</td>\n",
       "      <td>63.83</td>\n",
       "      <td>15.29</td>\n",
       "      <td>7.89</td>\n",
       "      <td>39.0</td>\n",
       "      <td>0.251308</td>\n",
       "      <td>7.79</td>\n",
       "      <td>1.96</td>\n",
       "    </tr>\n",
       "    <tr>\n",
       "      <th>9</th>\n",
       "      <td>1.09</td>\n",
       "      <td>64.88</td>\n",
       "      <td>15.14</td>\n",
       "      <td>7.16</td>\n",
       "      <td>36.0</td>\n",
       "      <td>0.273024</td>\n",
       "      <td>7.06</td>\n",
       "      <td>1.93</td>\n",
       "    </tr>\n",
       "    <tr>\n",
       "      <th>10</th>\n",
       "      <td>1.10</td>\n",
       "      <td>66.00</td>\n",
       "      <td>15.02</td>\n",
       "      <td>6.53</td>\n",
       "      <td>33.0</td>\n",
       "      <td>0.296154</td>\n",
       "      <td>6.43</td>\n",
       "      <td>1.90</td>\n",
       "    </tr>\n",
       "    <tr>\n",
       "      <th>11</th>\n",
       "      <td>1.11</td>\n",
       "      <td>67.19</td>\n",
       "      <td>14.94</td>\n",
       "      <td>5.99</td>\n",
       "      <td>30.0</td>\n",
       "      <td>0.320726</td>\n",
       "      <td>5.89</td>\n",
       "      <td>1.89</td>\n",
       "    </tr>\n",
       "    <tr>\n",
       "      <th>12</th>\n",
       "      <td>1.12</td>\n",
       "      <td>68.46</td>\n",
       "      <td>14.88</td>\n",
       "      <td>5.51</td>\n",
       "      <td>28.0</td>\n",
       "      <td>0.346769</td>\n",
       "      <td>5.41</td>\n",
       "      <td>1.88</td>\n",
       "    </tr>\n",
       "    <tr>\n",
       "      <th>13</th>\n",
       "      <td>1.13</td>\n",
       "      <td>69.80</td>\n",
       "      <td>14.85</td>\n",
       "      <td>5.10</td>\n",
       "      <td>25.0</td>\n",
       "      <td>0.374313</td>\n",
       "      <td>5.00</td>\n",
       "      <td>1.87</td>\n",
       "    </tr>\n",
       "    <tr>\n",
       "      <th>14</th>\n",
       "      <td>1.14</td>\n",
       "      <td>71.22</td>\n",
       "      <td>14.83</td>\n",
       "      <td>4.73</td>\n",
       "      <td>24.0</td>\n",
       "      <td>0.403385</td>\n",
       "      <td>4.63</td>\n",
       "      <td>1.87</td>\n",
       "    </tr>\n",
       "    <tr>\n",
       "      <th>15</th>\n",
       "      <td>1.15</td>\n",
       "      <td>72.72</td>\n",
       "      <td>14.84</td>\n",
       "      <td>4.40</td>\n",
       "      <td>22.0</td>\n",
       "      <td>0.434014</td>\n",
       "      <td>4.30</td>\n",
       "      <td>1.87</td>\n",
       "    </tr>\n",
       "    <tr>\n",
       "      <th>16</th>\n",
       "      <td>1.16</td>\n",
       "      <td>74.30</td>\n",
       "      <td>14.85</td>\n",
       "      <td>4.11</td>\n",
       "      <td>21.0</td>\n",
       "      <td>0.466231</td>\n",
       "      <td>4.01</td>\n",
       "      <td>1.87</td>\n",
       "    </tr>\n",
       "    <tr>\n",
       "      <th>17</th>\n",
       "      <td>1.17</td>\n",
       "      <td>75.95</td>\n",
       "      <td>14.88</td>\n",
       "      <td>3.85</td>\n",
       "      <td>19.0</td>\n",
       "      <td>0.500063</td>\n",
       "      <td>3.75</td>\n",
       "      <td>1.88</td>\n",
       "    </tr>\n",
       "    <tr>\n",
       "      <th>18</th>\n",
       "      <td>1.18</td>\n",
       "      <td>77.69</td>\n",
       "      <td>14.92</td>\n",
       "      <td>3.62</td>\n",
       "      <td>18.0</td>\n",
       "      <td>0.535538</td>\n",
       "      <td>3.52</td>\n",
       "      <td>1.88</td>\n",
       "    </tr>\n",
       "    <tr>\n",
       "      <th>19</th>\n",
       "      <td>1.19</td>\n",
       "      <td>79.52</td>\n",
       "      <td>14.97</td>\n",
       "      <td>3.41</td>\n",
       "      <td>17.0</td>\n",
       "      <td>0.572688</td>\n",
       "      <td>3.31</td>\n",
       "      <td>1.89</td>\n",
       "    </tr>\n",
       "    <tr>\n",
       "      <th>20</th>\n",
       "      <td>1.20</td>\n",
       "      <td>81.42</td>\n",
       "      <td>15.03</td>\n",
       "      <td>3.22</td>\n",
       "      <td>16.0</td>\n",
       "      <td>0.611538</td>\n",
       "      <td>3.12</td>\n",
       "      <td>1.91</td>\n",
       "    </tr>\n",
       "    <tr>\n",
       "      <th>21</th>\n",
       "      <td>1.21</td>\n",
       "      <td>83.42</td>\n",
       "      <td>15.10</td>\n",
       "      <td>3.04</td>\n",
       "      <td>15.0</td>\n",
       "      <td>0.652120</td>\n",
       "      <td>2.94</td>\n",
       "      <td>1.92</td>\n",
       "    </tr>\n",
       "    <tr>\n",
       "      <th>22</th>\n",
       "      <td>1.22</td>\n",
       "      <td>85.50</td>\n",
       "      <td>15.17</td>\n",
       "      <td>2.89</td>\n",
       "      <td>14.0</td>\n",
       "      <td>0.694462</td>\n",
       "      <td>2.79</td>\n",
       "      <td>1.93</td>\n",
       "    </tr>\n",
       "    <tr>\n",
       "      <th>23</th>\n",
       "      <td>1.23</td>\n",
       "      <td>87.67</td>\n",
       "      <td>15.25</td>\n",
       "      <td>2.74</td>\n",
       "      <td>14.0</td>\n",
       "      <td>0.738591</td>\n",
       "      <td>2.64</td>\n",
       "      <td>1.95</td>\n",
       "    </tr>\n",
       "    <tr>\n",
       "      <th>24</th>\n",
       "      <td>1.24</td>\n",
       "      <td>89.93</td>\n",
       "      <td>15.34</td>\n",
       "      <td>2.61</td>\n",
       "      <td>13.0</td>\n",
       "      <td>0.784538</td>\n",
       "      <td>2.51</td>\n",
       "      <td>1.97</td>\n",
       "    </tr>\n",
       "    <tr>\n",
       "      <th>25</th>\n",
       "      <td>1.25</td>\n",
       "      <td>92.29</td>\n",
       "      <td>15.43</td>\n",
       "      <td>2.49</td>\n",
       "      <td>12.0</td>\n",
       "      <td>0.832332</td>\n",
       "      <td>2.39</td>\n",
       "      <td>1.99</td>\n",
       "    </tr>\n",
       "    <tr>\n",
       "      <th>26</th>\n",
       "      <td>1.26</td>\n",
       "      <td>94.74</td>\n",
       "      <td>15.53</td>\n",
       "      <td>2.37</td>\n",
       "      <td>12.0</td>\n",
       "      <td>0.882000</td>\n",
       "      <td>2.27</td>\n",
       "      <td>2.01</td>\n",
       "    </tr>\n",
       "    <tr>\n",
       "      <th>27</th>\n",
       "      <td>1.27</td>\n",
       "      <td>97.28</td>\n",
       "      <td>15.63</td>\n",
       "      <td>2.27</td>\n",
       "      <td>11.0</td>\n",
       "      <td>0.933572</td>\n",
       "      <td>2.17</td>\n",
       "      <td>2.03</td>\n",
       "    </tr>\n",
       "    <tr>\n",
       "      <th>28</th>\n",
       "      <td>1.28</td>\n",
       "      <td>99.92</td>\n",
       "      <td>15.73</td>\n",
       "      <td>2.17</td>\n",
       "      <td>11.0</td>\n",
       "      <td>0.987077</td>\n",
       "      <td>2.07</td>\n",
       "      <td>2.05</td>\n",
       "    </tr>\n",
       "    <tr>\n",
       "      <th>29</th>\n",
       "      <td>1.29</td>\n",
       "      <td>102.66</td>\n",
       "      <td>15.84</td>\n",
       "      <td>2.08</td>\n",
       "      <td>10.0</td>\n",
       "      <td>1.042543</td>\n",
       "      <td>1.98</td>\n",
       "      <td>2.07</td>\n",
       "    </tr>\n",
       "    <tr>\n",
       "      <th>30</th>\n",
       "      <td>1.30</td>\n",
       "      <td>105.50</td>\n",
       "      <td>15.95</td>\n",
       "      <td>2.00</td>\n",
       "      <td>10.0</td>\n",
       "      <td>1.100000</td>\n",
       "      <td>1.90</td>\n",
       "      <td>2.09</td>\n",
       "    </tr>\n",
       "  </tbody>\n",
       "</table>\n",
       "</div>"
      ],
      "text/plain": [
       "    Voltage   Power  Energy  Delay  Number of Parallel Cores  \\\n",
       "0      1.00   57.79   20.12  23.48                     117.0   \n",
       "1      1.01   58.33   18.82  19.62                      98.0   \n",
       "2      1.02   58.92   17.85  16.66                      83.0   \n",
       "3      1.03   59.58   17.11  14.35                      72.0   \n",
       "4      1.04   60.30   16.54  12.51                      63.0   \n",
       "5      1.05   61.08   16.10  11.01                      55.0   \n",
       "6      1.06   61.93   15.76   9.78                      49.0   \n",
       "7      1.07   62.84   15.50   8.76                      44.0   \n",
       "8      1.08   63.83   15.29   7.89                      39.0   \n",
       "9      1.09   64.88   15.14   7.16                      36.0   \n",
       "10     1.10   66.00   15.02   6.53                      33.0   \n",
       "11     1.11   67.19   14.94   5.99                      30.0   \n",
       "12     1.12   68.46   14.88   5.51                      28.0   \n",
       "13     1.13   69.80   14.85   5.10                      25.0   \n",
       "14     1.14   71.22   14.83   4.73                      24.0   \n",
       "15     1.15   72.72   14.84   4.40                      22.0   \n",
       "16     1.16   74.30   14.85   4.11                      21.0   \n",
       "17     1.17   75.95   14.88   3.85                      19.0   \n",
       "18     1.18   77.69   14.92   3.62                      18.0   \n",
       "19     1.19   79.52   14.97   3.41                      17.0   \n",
       "20     1.20   81.42   15.03   3.22                      16.0   \n",
       "21     1.21   83.42   15.10   3.04                      15.0   \n",
       "22     1.22   85.50   15.17   2.89                      14.0   \n",
       "23     1.23   87.67   15.25   2.74                      14.0   \n",
       "24     1.24   89.93   15.34   2.61                      13.0   \n",
       "25     1.25   92.29   15.43   2.49                      12.0   \n",
       "26     1.26   94.74   15.53   2.37                      12.0   \n",
       "27     1.27   97.28   15.63   2.27                      11.0   \n",
       "28     1.28   99.92   15.73   2.17                      11.0   \n",
       "29     1.29  102.66   15.84   2.08                      10.0   \n",
       "30     1.30  105.50   15.95   2.00                      10.0   \n",
       "\n",
       "    Energy per Parallel core  Delay - all Parallel cores  EDP - Parallel cores  \n",
       "0                   0.125000                       23.38                  2.92  \n",
       "1                   0.136447                       19.52                  2.66  \n",
       "2                   0.149077                       16.56                  2.47  \n",
       "3                   0.162918                       14.25                  2.32  \n",
       "4                   0.178000                       12.41                  2.21  \n",
       "5                   0.194351                       10.91                  2.12  \n",
       "6                   0.212000                        9.68                  2.05  \n",
       "7                   0.230976                        8.66                  2.00  \n",
       "8                   0.251308                        7.79                  1.96  \n",
       "9                   0.273024                        7.06                  1.93  \n",
       "10                  0.296154                        6.43                  1.90  \n",
       "11                  0.320726                        5.89                  1.89  \n",
       "12                  0.346769                        5.41                  1.88  \n",
       "13                  0.374313                        5.00                  1.87  \n",
       "14                  0.403385                        4.63                  1.87  \n",
       "15                  0.434014                        4.30                  1.87  \n",
       "16                  0.466231                        4.01                  1.87  \n",
       "17                  0.500063                        3.75                  1.88  \n",
       "18                  0.535538                        3.52                  1.88  \n",
       "19                  0.572688                        3.31                  1.89  \n",
       "20                  0.611538                        3.12                  1.91  \n",
       "21                  0.652120                        2.94                  1.92  \n",
       "22                  0.694462                        2.79                  1.93  \n",
       "23                  0.738591                        2.64                  1.95  \n",
       "24                  0.784538                        2.51                  1.97  \n",
       "25                  0.832332                        2.39                  1.99  \n",
       "26                  0.882000                        2.27                  2.01  \n",
       "27                  0.933572                        2.17                  2.03  \n",
       "28                  0.987077                        2.07                  2.05  \n",
       "29                  1.042543                        1.98                  2.07  \n",
       "30                  1.100000                        1.90                  2.09  "
      ]
     },
     "execution_count": 10,
     "metadata": {},
     "output_type": "execute_result"
    }
   ],
   "source": [
    "data"
   ]
  },
  {
   "cell_type": "code",
   "execution_count": 11,
   "metadata": {},
   "outputs": [
    {
     "name": "stdout",
     "output_type": "stream",
     "text": [
      "Voltage                        1.140000\n",
      "Power                         71.220000\n",
      "Energy                        14.830000\n",
      "Delay                          4.730000\n",
      "Number of Parallel Cores      24.000000\n",
      "Energy per Parallel core       0.403385\n",
      "Delay - all Parallel cores     4.630000\n",
      "EDP - Parallel cores           1.870000\n",
      "Name: 14, dtype: float64\n"
     ]
    }
   ],
   "source": [
    "## Min Energy configuration with static and dynamic energy: \n",
    "energy_minidx = np.argmin(energy_list)\n",
    "print(data.iloc[energy_minidx])"
   ]
  },
  {
   "cell_type": "code",
   "execution_count": 12,
   "metadata": {},
   "outputs": [
    {
     "name": "stdout",
     "output_type": "stream",
     "text": [
      "Voltage                         1.000\n",
      "Power                          57.790\n",
      "Energy                         20.120\n",
      "Delay                          23.480\n",
      "Number of Parallel Cores      117.000\n",
      "Energy per Parallel core        0.125\n",
      "Delay - all Parallel cores     23.380\n",
      "EDP - Parallel cores            2.920\n",
      "Name: 0, dtype: float64\n"
     ]
    }
   ],
   "source": [
    "## Min Energy configuration with only dynamic energy:\n",
    "energy_minidx = np.argmin(energy_per_parallel_list)\n",
    "print(data.iloc[energy_minidx])"
   ]
  },
  {
   "cell_type": "code",
   "execution_count": 13,
   "metadata": {},
   "outputs": [
    {
     "data": {
      "image/png": "[encoded data removed]",
      "text/plain": [
       "<Figure size 432x288 with 1 Axes>"
      ]
     },
     "metadata": {
      "needs_background": "light"
     },
     "output_type": "display_data"
    }
   ],
   "source": [
    "plt.plot(delay_parallel_list, energy_per_parallel_list)\n",
    "plt.title(\"Energy per parallel core vs Delay of parallel cores\\n\")\n",
    "plt.ylabel(\"Energy (J)\")\n",
    "plt.xlabel(\"Delay (s)\")\n",
    "plt.show()"
   ]
  },
  {
   "cell_type": "code",
   "execution_count": 14,
   "metadata": {},
   "outputs": [
    {
     "data": {
      "image/png": "[encoded data removed]",
      "text/plain": [
       "<Figure size 432x288 with 1 Axes>"
      ]
     },
     "metadata": {
      "needs_background": "light"
     },
     "output_type": "display_data"
    }
   ],
   "source": [
    "plt.plot(delay_list, energy_list)\n",
    "plt.title(\"Total Energy vs Total Delay Plot\\n\")\n",
    "plt.ylabel(\"Energy (J)\")\n",
    "plt.xlabel(\"Delay (s)\")\n",
    "plt.show()\n"
   ]
  },
  {
   "cell_type": "code",
   "execution_count": 15,
   "metadata": {},
   "outputs": [
    {
     "data": {
      "image/png": "[encoded data removed]",
      "text/plain": [
       "<Figure size 432x288 with 1 Axes>"
      ]
     },
     "metadata": {
      "needs_background": "light"
     },
     "output_type": "display_data"
    }
   ],
   "source": [
    "plt.plot(voltage_list, power_list)\n",
    "plt.title(\"Power vs Voltage Plot\\n\")\n",
    "plt.xlabel(\"Voltage (V)\")\n",
    "plt.ylabel(\"Power (W)\")\n",
    "plt.show()\n"
   ]
  },
  {
   "cell_type": "code",
   "execution_count": 16,
   "metadata": {},
   "outputs": [
    {
     "data": {
      "image/png": "[encoded data removed]",
      "text/plain": [
       "<Figure size 432x288 with 1 Axes>"
      ]
     },
     "metadata": {
      "needs_background": "light"
     },
     "output_type": "display_data"
    }
   ],
   "source": [
    "plt.plot(num_cores_list, energy_per_parallel_list)\n",
    "plt.title(\"Energy consumed per Parallel Core vs Number of parallel cores\\n\")\n",
    "plt.ylabel(\"Energy (J)\")\n",
    "plt.xlabel(\"Num_cores\")\n",
    "plt.show()"
   ]
  },
  {
   "cell_type": "code",
   "execution_count": 17,
   "metadata": {},
   "outputs": [
    {
     "data": {
      "image/png": "[encoded data removed]",
      "text/plain": [
       "<Figure size 432x288 with 1 Axes>"
      ]
     },
     "metadata": {
      "needs_background": "light"
     },
     "output_type": "display_data"
    }
   ],
   "source": [
    "plt.plot(delay_list, num_cores_list)\n",
    "plt.title(\"Number of parallel cores vs Delay of Parallel Cores\\n\")\n",
    "plt.xlabel(\"Delay (s)\")\n",
    "plt.ylabel(\"Number of parallel cores\")\n",
    "plt.show()"
   ]
  },
  {
   "cell_type": "code",
   "execution_count": 18,
   "metadata": {},
   "outputs": [
    {
     "data": {
      "image/png": "[encoded data removed]",
      "text/plain": [
       "<Figure size 432x288 with 1 Axes>"
      ]
     },
     "metadata": {
      "needs_background": "light"
     },
     "output_type": "display_data"
    }
   ],
   "source": [
    "\n",
    "plt.plot(voltage_list, energy_delay_list, color='blue', label = \"EDP\")\n",
    "plt.plot(voltage_list, energy_per_parallel_list, color='green', label = \"Energy\")\n",
    "plt.plot(voltage_list, delay_parallel_list, color='red', label =\"Delay\")\n",
    "plt.xlabel(\"Voltage\")\n",
    "plt.ylabel(\"EDP\")\n",
    "plt.legend()\n",
    "plt.show()"
   ]
  },
  {
   "cell_type": "code",
   "execution_count": 19,
   "metadata": {},
   "outputs": [
    {
     "data": {
      "image/png": "[encoded data removed]",
      "text/plain": [
       "<Figure size 432x288 with 1 Axes>"
      ]
     },
     "metadata": {
      "needs_background": "light"
     },
     "output_type": "display_data"
    }
   ],
   "source": [
    "p_norm = np.interp(power_list, (power_list.min(), power_list.max()), (0, +1))\n",
    "d_norm = np.interp(delay_list, (delay_list.min(), delay_list.max()), (0, +1))\n",
    "\n",
    "plt.plot(voltage_list, p_norm, color='green', label = \"Power\")\n",
    "plt.plot(voltage_list, d_norm, color='red', label =\"Delay\")\n",
    "plt.xlabel(\"Voltage (V)\")\n",
    "plt.ylabel(\"POwer (W), Delay (s)\")\n",
    "plt.legend()\n",
    "plt.show()"
   ]
  },
  {
   "cell_type": "code",
   "execution_count": null,
   "metadata": {},
   "outputs": [],
   "source": []
  },
  {
   "cell_type": "code",
   "execution_count": null,
   "metadata": {},
   "outputs": [],
   "source": []
  },
  {
   "cell_type": "code",
   "execution_count": null,
   "metadata": {},
   "outputs": [],
   "source": []
  }
 ],
 "metadata": {
  "interpreter": {
   "hash": "916dbcbb3f70747c44a77c7bcd40155683ae19c65e1c03b4aa3499c5328201f1"
  },
  "kernelspec": {
   "display_name": "Python 3.8.10 64-bit",
   "language": "python",
   "name": "python3"
  },
  "language_info": {
   "codemirror_mode": {
    "name": "ipython",
    "version": 3
   },
   "file_extension": ".py",
   "mimetype": "text/x-python",
   "name": "python",
   "nbconvert_exporter": "python",
   "pygments_lexer": "ipython3",
   "version": "3.8.10"
  },
  "orig_nbformat": 4
 },
 "nbformat": 4,
 "nbformat_minor": 2
}
